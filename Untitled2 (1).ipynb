{
 "cells": [
  {
   "cell_type": "code",
   "execution_count": 8,
   "id": "3f1a68e1-8f12-4bcc-a29b-29f59c9fa0e7",
   "metadata": {},
   "outputs": [
    {
     "name": "stdout",
     "output_type": "stream",
     "text": [
      "6\n"
     ]
    }
   ],
   "source": [
    "N = ord(\"П\") % 10 + 1\n",
    "print(N)"
   ]
  },
  {
   "cell_type": "markdown",
   "id": "f5c7e15f-bb50-4f96-a223-1dc51dc645fe",
   "metadata": {},
   "source": [
    "<div style=\"border: 1px solid black; padding: 10px;\"> \n",
    "\n",
    "# Йорданія\n",
    "**Йорданія**, офіційна назва _Хашимітське Королівство Йорданія_, розташована в Південно-Західній Азії.\n",
    "## Табличка швидких фактів:\n",
    "\n",
    "|                    |                        |\n",
    "|--------------------|------------------------|\n",
    "| Столиця            | Амман                  |\n",
    "| Площа              | 89,342 км²             |\n",
    "| Населення          | 10.3 млн               |\n",
    "| Державний устрій   | Конституційна монархія |\n",
    "| Офіційна мова      | Арабська               |\n",
    "\n",
    "## Видатні персоналії:\n",
    "1. **Король Абдалла II** - нинішній правитель Йорданії.\n",
    "2. **Королева Ранія** - активна в міжнародних благодійних проєктах.\n",
    "\n",
    "## Пам'ятки культури та природи:\n",
    "- <span style=\"color:blue;\">Петра</span> - стародавнє місто, одне з семи чудес світу.\n",
    "  ![Петра](https://turpoisk.ua/images/blog/petra/petra.jpg)\n",
    "- <span style=\"color:blue;\">Ваді Рам</span> - мальовничі пустелі, популярне місце для туризму.\n",
    "  ![Ваді Рам](https://upload.wikimedia.org/wikipedia/commons/5/56/Mountain_in_Wadi_Rum%2C_Jordan.jpg)\n",
    "\n",
    "[Детальніше про Йорданію на Wikipedia](https://uk.wikipedia.org/wiki/%D0%99%D0%BE%D1%80%D0%B4%D0%B0%D0%BD%D1%96%D1%8F)\n",
    "</div>\n"
   ]
  },
  {
   "cell_type": "code",
   "execution_count": 1,
   "id": "51010fd3-ace9-4c70-84f8-7fa47c62cb41",
   "metadata": {},
   "outputs": [
    {
     "data": {
      "text/html": [
       "<svg xmlns=\"http://www.w3.org/2000/svg\" width=\"400\" height=\"300\" viewBox=\"0 0 10080 5040\">\n",
       "\t<path fill=\"#fff\" d=\"m0 0h10080v5040H0z\"/>\n",
       "\t<path d=\"m0 0h10080v1680H0z\"/>\n",
       "\t<path fill=\"#007a3d\" d=\"m0 3360h10080v1680H0z\"/>\n",
       "\t<path fill=\"#ce1126\" d=\"m5040 2520L0 5040V0m1557 2160-78 198-203-62 106 184-176 120 211 32-16 212 156-144 157 144-16-212 210-32-175-120 106-184-203 62z\"/>\n",
       "</svg>\n"
      ],
      "text/plain": [
       "<IPython.core.display.HTML object>"
      ]
     },
     "metadata": {},
     "output_type": "display_data"
    }
   ],
   "source": [
    "%%HTML \n",
    "<svg xmlns=\"http://www.w3.org/2000/svg\" width=\"400\" height=\"300\" viewBox=\"0 0 10080 5040\">\n",
    "\t<path fill=\"#fff\" d=\"m0 0h10080v5040H0z\"/>\n",
    "\t<path d=\"m0 0h10080v1680H0z\"/>\n",
    "\t<path fill=\"#007a3d\" d=\"m0 3360h10080v1680H0z\"/>\n",
    "\t<path fill=\"#ce1126\" d=\"m5040 2520L0 5040V0m1557 2160-78 198-203-62 106 184-176 120 211 32-16 212 156-144 157 144-16-212 210-32-175-120 106-184-203 62z\"/>\n",
    "</svg>"
   ]
  },
  {
   "cell_type": "code",
   "execution_count": 14,
   "id": "34d3b175-f909-4563-bcea-2627bfe9dd73",
   "metadata": {},
   "outputs": [],
   "source": [
    "def task_6(a, b):\n",
    "    if not isinstance(a, int) or not isinstance(b, int):\n",
    "        print(\"Помилка: значення повини бути цілими.\")\n",
    "        return\n",
    "    \n",
    "    if a > b:\n",
    "        print(\"Помилка: значення a повинно бути менше або дорівнювати b.\")\n",
    "        return\n",
    "    \n",
    "    if a < 0 or b < 0:\n",
    "        print(\"Помилка: значення a и b повини бути невідмінними.\")\n",
    "        return\n",
    "\n",
    "    def is_prime(n):\n",
    "        if n < 2:\n",
    "            return False\n",
    "        for i in range(2, int(n**0.5) + 1):\n",
    "            if n % i == 0:\n",
    "                return False\n",
    "        return True\n",
    "\n",
    "    primes = [num for num in range(a, b + 1) if is_prime(num)]\n",
    "\n",
    "    print(primes)"
   ]
  },
  {
   "cell_type": "code",
   "execution_count": 13,
   "id": "e80de383-2af2-4045-b1e2-5e347048cdbe",
   "metadata": {},
   "outputs": [
    {
     "name": "stdout",
     "output_type": "stream",
     "text": [
      "[3, 5, 7, 11, 13]\n"
     ]
    }
   ],
   "source": [
    "task_6(3, 15)"
   ]
  },
  {
   "cell_type": "code",
   "execution_count": 6,
   "id": "438e14eb-612b-40b3-bcb8-51bfe659359c",
   "metadata": {},
   "outputs": [
    {
     "name": "stdout",
     "output_type": "stream",
     "text": [
      "[7, 11, 13, 17, 19, 23]\n"
     ]
    }
   ],
   "source": [
    "task_6(6, 24)"
   ]
  },
  {
   "cell_type": "code",
   "execution_count": null,
   "id": "280d8afd-5915-401e-af2d-76fbd9d73fe9",
   "metadata": {},
   "outputs": [],
   "source": []
  }
 ],
 "metadata": {
  "kernelspec": {
   "display_name": "Python 3 (ipykernel)",
   "language": "python",
   "name": "python3"
  },
  "language_info": {
   "codemirror_mode": {
    "name": "ipython",
    "version": 3
   },
   "file_extension": ".py",
   "mimetype": "text/x-python",
   "name": "python",
   "nbconvert_exporter": "python",
   "pygments_lexer": "ipython3",
   "version": "3.11.7"
  }
 },
 "nbformat": 4,
 "nbformat_minor": 5
}
